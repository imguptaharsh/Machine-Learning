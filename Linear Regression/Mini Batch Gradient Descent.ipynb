{
 "cells": [
  {
   "cell_type": "markdown",
   "id": "6d41ca6c",
   "metadata": {},
   "source": [
    "# Mini Batch Gradient Descent"
   ]
  },
  {
   "cell_type": "code",
   "execution_count": 7,
   "id": "786e2316",
   "metadata": {},
   "outputs": [],
   "source": [
    "import numpy as np\n",
    "import matplotlib.pyplot as plt\n",
    "from sklearn.datasets import make_regression"
   ]
  },
  {
   "cell_type": "code",
   "execution_count": 12,
   "id": "c4c41178",
   "metadata": {},
   "outputs": [
    {
     "data": {
      "text/plain": [
       "array([[-1.51368199, -0.06746467,  0.13574608, ..., -1.65413539,\n",
       "        -0.21719796, -1.31538298],\n",
       "       [ 0.19540052,  0.57793625, -0.40275758, ..., -1.1705029 ,\n",
       "         0.31369962,  0.56001888],\n",
       "       [-0.58785306, -0.00232898,  0.36817228, ..., -1.44449634,\n",
       "        -0.08806152,  0.889108  ],\n",
       "       ...,\n",
       "       [-1.09984931,  0.31738128, -1.17591488, ..., -1.49213908,\n",
       "        -1.23185104,  0.47336689],\n",
       "       [-0.22773919,  1.56212079, -0.93205735, ...,  1.36379928,\n",
       "        -0.24129093, -0.76113976],\n",
       "       [-0.00590882, -0.76231123,  1.36509172, ..., -0.43617846,\n",
       "        -0.91656261,  2.29475257]])"
      ]
     },
     "execution_count": 12,
     "metadata": {},
     "output_type": "execute_result"
    }
   ],
   "source": [
    "#Get or Create a Dataset\n",
    "x,y= make_regression(n_samples=10000,n_features=20, n_informative=20,noise=10,random_state=10000)\n",
    "\n",
    "#Normilisation\n",
    "u=np.mean(x,axis=0)\n",
    "std=np.std(x,axis=0)\n",
    "x=(x-u)/std\n",
    "x\n"
   ]
  },
  {
   "cell_type": "code",
   "execution_count": 15,
   "id": "a489e2a4",
   "metadata": {},
   "outputs": [
    {
     "name": "stdout",
     "output_type": "stream",
     "text": [
      "(10000, 23)\n"
     ]
    }
   ],
   "source": [
    "ones= np.ones((x.shape[0],1))\n",
    "x= np.hstack((ones,x))\n",
    "print(x.shape)"
   ]
  },
  {
   "cell_type": "code",
   "execution_count": 26,
   "id": "a92b7608",
   "metadata": {},
   "outputs": [],
   "source": [
    "def hypothesis(x,theta):\n",
    "    return np.dot(x,theta)\n",
    "\n",
    "def error(X,y,theta):\n",
    "    e= 0.0\n",
    "    m=X.shape[0] #examples\n",
    "    \n",
    "    y_=hypothesis(X,theta)\n",
    "    e=np.sum((y-y_)**2)# error for ith example\n",
    "    \n",
    "    return e/m\n",
    "\n",
    "def gradient(X,y,theta):\n",
    "    m,n= X.shape\n",
    "    y_=hypothesis(X,theta)\n",
    "    grad= np.dot(X.T,(y_-y))\n",
    "    return grad/m\n",
    "\n",
    "def gradient_descent(X,y,learning_rate=0.01,max_iters=300):\n",
    "    m,n=X.shape\n",
    "    theta=np.zeros((n,))\n",
    "    error_list= []\n",
    "    \n",
    "    for i in range(max_iters):\n",
    "        e=error(X,y,theta)\n",
    "        error_list.append(e)\n",
    "        \n",
    "        # Batch Gradient Descent -> compute the gradient wrt to entire data\n",
    "        grad=gradient(X,y,theta)\n",
    "        theta=theta-learning_rate*grad\n",
    "            \n",
    "    return theta,error_list\n",
    "\n"
   ]
  },
  {
   "cell_type": "code",
   "execution_count": null,
   "id": "fe87964e",
   "metadata": {},
   "outputs": [],
   "source": [
    "def batch_gradient_descent(x,y,batch_size=20, learning_rate=0.01,max_iters=100):\n",
    "    m,n=X.shape\n",
    "    theta=np.zeros((n,))\n",
    "    error_list= []\n",
    "    \n",
    "    data= np.hstack((x,y.reshape(-1,1)))\n",
    "    for i in range(max_iters):\n",
    "        e=error(X,y,theta)\n",
    "        error_list.append(e)\n",
    "        \n",
    "        # Mini Batch Gradient Descent\n",
    "        np.random.suffle(data)\n",
    "        m=data.shape[0]\n",
    "        total_batches=m//batch_size\n",
    "        \n",
    "    return theta,error_list"
   ]
  },
  {
   "cell_type": "code",
   "execution_count": 22,
   "id": "f6728a5e",
   "metadata": {},
   "outputs": [
    {
     "name": "stdout",
     "output_type": "stream",
     "text": [
      "Time taken is  0.13029789924621582\n"
     ]
    }
   ],
   "source": [
    "import time\n",
    "start =time.time()\n",
    "theta,error_list= gradient_descent(x,y)\n",
    "end=time.time()\n",
    "print(\"Time taken is \", end-start)"
   ]
  },
  {
   "cell_type": "code",
   "execution_count": 23,
   "id": "ec7d1227",
   "metadata": {},
   "outputs": [
    {
     "data": {
      "image/png": "[encoded data removed]",
      "text/plain": [
       "<Figure size 640x480 with 1 Axes>"
      ]
     },
     "metadata": {},
     "output_type": "display_data"
    }
   ],
   "source": [
    "plt.plot(error_list)\n",
    "plt.show()"
   ]
  }
 ],
 "metadata": {
  "kernelspec": {
   "display_name": "Python 3 (ipykernel)",
   "language": "python",
   "name": "python3"
  },
  "language_info": {
   "codemirror_mode": {
    "name": "ipython",
    "version": 3
   },
   "file_extension": ".py",
   "mimetype": "text/x-python",
   "name": "python",
   "nbconvert_exporter": "python",
   "pygments_lexer": "ipython3",
   "version": "3.11.4"
  }
 },
 "nbformat": 4,
 "nbformat_minor": 5
}
