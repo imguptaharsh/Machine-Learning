{
 "cells": [
  {
   "cell_type": "markdown",
   "id": "3790c488",
   "metadata": {},
   "source": [
    "# Create a NLP Pipeline to 'Clean' Reviews Data\n",
    "- Load Input File and Read Reviews\n",
    "- Tokenize\n",
    "- Remove Stopwords\n",
    "- Perform Stemming\n",
    "- Write cleaned data to output file"
   ]
  },
  {
   "cell_type": "markdown",
   "id": "9389b2a6",
   "metadata": {},
   "source": [
    "*NLTK*"
   ]
  },
  {
   "cell_type": "code",
   "execution_count": 2,
   "id": "119fed18",
   "metadata": {},
   "outputs": [],
   "source": [
    "from nltk.tokenize import RegexpTokenizer\n",
    "from nltk.stem.porter import PorterStemmer\n",
    "from nltk.corpus import stopwords"
   ]
  },
  {
   "cell_type": "code",
   "execution_count": 3,
   "id": "a64ae085",
   "metadata": {},
   "outputs": [],
   "source": [
    "# Init Object\n",
    "tokenizer= RegexpTokenizer(r'\\w+') # coverting data into words\n",
    "en_stopwords= set(stopwords.words('english')) # stoping the words like verb and preposition\n",
    "ps= PorterStemmer() # same words with different prefix or suffix"
   ]
  },
  {
   "cell_type": "code",
   "execution_count": 4,
   "id": "f3e98fbe",
   "metadata": {},
   "outputs": [],
   "source": [
    "def getStemmedReview(review):\n",
    "    \n",
    "    review= review.lower()\n",
    "    review= review.replace(\"<br /><br />\",\" \")\n",
    "    \n",
    "    #Tokenize\n",
    "    tokens= tokenizer.tokenize(review)\n",
    "    new_tokens= [token for token in tokens if token not in en_stopwords] # stopwords\n",
    "    stemmed_tokens= [ps.stem(token) for token in new_tokens] # stemming\n",
    "    \n",
    "    cleaned_review= ' '.join(stemmed_tokens)\n",
    "    \n",
    "    return cleaned_review"
   ]
  },
  {
   "cell_type": "code",
   "execution_count": 6,
   "id": "0c98beb2",
   "metadata": {},
   "outputs": [],
   "source": [
    "sample_text = \"\"\"I loved this movie <br /><br /> since I was 7 and I saw \n",
    "it on the opening day. It was so touching and beautiful.\n",
    "I strongly recommend seeing for all. It's a movie to watch with your family \n",
    "by far.<br /><br />My MPAA rating: PG-13 for thematic elements, prolonged scenes of disastor, \n",
    "nudity/sexuality and some language.\"\"\""
   ]
  },
  {
   "cell_type": "code",
   "execution_count": 7,
   "id": "7b1a03b9",
   "metadata": {},
   "outputs": [
    {
     "data": {
      "text/plain": [
       "'love movi sinc 7 saw open day touch beauti strongli recommend see movi watch famili far mpaa rate pg 13 themat element prolong scene disastor nuditi sexual languag'"
      ]
     },
     "execution_count": 7,
     "metadata": {},
     "output_type": "execute_result"
    }
   ],
   "source": [
    "getStemmedReview(sample_text)"
   ]
  },
  {
   "cell_type": "code",
   "execution_count": null,
   "id": "84fce603",
   "metadata": {},
   "outputs": [],
   "source": []
  }
 ],
 "metadata": {
  "kernelspec": {
   "display_name": "Python 3 (ipykernel)",
   "language": "python",
   "name": "python3"
  },
  "language_info": {
   "codemirror_mode": {
    "name": "ipython",
    "version": 3
   },
   "file_extension": ".py",
   "mimetype": "text/x-python",
   "name": "python",
   "nbconvert_exporter": "python",
   "pygments_lexer": "ipython3",
   "version": "3.11.4"
  }
 },
 "nbformat": 4,
 "nbformat_minor": 5
}
